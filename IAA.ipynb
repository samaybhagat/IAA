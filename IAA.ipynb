{
 "cells": [
  {
   "cell_type": "markdown",
   "id": "ddc235d9",
   "metadata": {},
   "source": [
    "# What does this program do?\n",
    "\n",
    "IAA is a optimizer tool -- its true meaning is (I)nteractive (A)sset (A)llocator. The intention is to aid the user in portfolio development with assets of their own choice. \n",
    "\n",
    "IAA reads from the standard input: it takes in the number of assets to be invested, followed by the previous day's date & a list of tickers the user wishes to purchase. For example, today is May 25th, 2024, so a valid input example would be:\n",
    "\n",
    "5 2024-05-24 AAPL AMZN MSFT GOGL META\n",
    "\n",
    "or: 8 2024-05-24 WMT NFLX IBM W SBUX BKC KRW SHOP\n",
    "\n",
    "The IAA only accepts valid tickers and stocks denominated in CAD/USD. It will reject anything that does not follow this. Its ultimate goal is to return a distribution of asset allocation that optimizes for the greatest possible return. \n",
    "\n",
    "Keep in mind that it will not necessarily produce a portfolio that is highly profitable. \n",
    "\n",
    "Instead, it provides the user with the MOST profitable portfolio distribution given assets THEY choose.\n"
   ]
  },
  {
   "cell_type": "code",
   "execution_count": 1,
   "id": "d8d615ff",
   "metadata": {},
   "outputs": [],
   "source": [
    "import pandas as pd\n",
    "import numpy as np \n",
    "import yfinance as yf\n",
    "import datetime as dt\n",
    "from scipy.optimize import minimize\n",
    "\n",
    "# importing necessary modules and creating aliases (1)"
   ]
  },
  {
   "cell_type": "code",
   "execution_count": 2,
   "id": "608e44b6",
   "metadata": {},
   "outputs": [
    {
     "name": "stdout",
     "output_type": "stream",
     "text": [
      "How many assets are you interested in managing? (must be an integer): 5\n",
      "Enter yesterday's date (format should be yyyy-mm-dd): 2024-05-24\n"
     ]
    }
   ],
   "source": [
    "num_assets = input(\"How many assets are you interested in managing? (must be an integer): \")\n",
    "num_assets = int(num_assets)\n",
    "date = input(\"Enter yesterday's date (format should be yyyy-mm-dd): \")\n",
    "trading_days = 252"
   ]
  },
  {
   "cell_type": "code",
   "execution_count": 3,
   "id": "03b97732",
   "metadata": {},
   "outputs": [],
   "source": [
    "def valid_curr(ticker):\n",
    "    stock_info = yf.Ticker(ticker).info\n",
    "    currency = stock_info.get('currency', '').upper() # retrieving the stock currency\n",
    "    return currency == 'USD' or currency == 'CAD' # returns T/F based on currency"
   ]
  },
  {
   "cell_type": "code",
   "execution_count": 4,
   "id": "8ec001c0",
   "metadata": {},
   "outputs": [
    {
     "name": "stdout",
     "output_type": "stream",
     "text": [
      "What is the ticker of your desired stock?: shop\n",
      "What is the ticker of your desired stock?: f\n",
      "What is the ticker of your desired stock?: tsla\n",
      "What is the ticker of your desired stock?: amzn\n",
      "What is the ticker of your desired stock?: m\n",
      "\n",
      " Your selected tickers are:  SHOP F TSLA AMZN M\n"
     ]
    }
   ],
   "source": [
    "assets = []\n",
    "asset_str = \"\"\n",
    "\n",
    "while len(assets) < num_assets:\n",
    "    asset = input(\"What is the ticker of your desired stock?: \").upper()\n",
    "    if valid_curr(asset):\n",
    "        assets.append(asset)\n",
    "    else:\n",
    "        print(\"\\n\")\n",
    "        print(\"The ticker you have entered is invalid or is not denominated in USD/CAD, and has been disregarded. Please try again.\")\n",
    "        print(\"\\n\")\n",
    "        \n",
    "for i in assets:\n",
    "    asset_str += i\n",
    "    asset_str += \" \"\n",
    "\n",
    "asset_str = asset_str[:-1]\n",
    "print(\"\\n Your selected tickers are: \", asset_str)\n",
    "\n",
    "assets.sort()"
   ]
  },
  {
   "cell_type": "code",
   "execution_count": 5,
   "id": "7b38c8f6",
   "metadata": {},
   "outputs": [],
   "source": [
    "startdate = '2022-04-01'\n",
    "enddate = date ## spans from the beginning of 2022-Q2 to yesterday's date from input\n",
    "CAD2USD = yf.Ticker(\"CADUSD=x\")\n",
    "exr = (CAD2USD.history(start=startdate, end=enddate))[['Close']]\n",
    "exr.index = exr.index.strftime('%Y-%m-%d')\n",
    "\n",
    "def data(tickers, start, end):\n",
    "    data = yf.download(tickers, start=start, end=end)['Adj Close']\n",
    "    data.index = data.index.strftime('%Y-%m-%d')\n",
    "    return data \n",
    "    \n",
    "def conversion(data):\n",
    "    for ticker in assets:\n",
    "        if yf.Ticker(ticker).info.get(\"currency\").upper() == \"USD\":\n",
    "            rates = data[ticker] / exr['Close']\n",
    "            rates = rates.dropna()\n",
    "            data[ticker] = rates\n",
    "    return data\n",
    "\n",
    "def pct_data(data):\n",
    "    return data.pct_change().dropna() * 100\n",
    "\n",
    "def pct_wrapper(tickers, start, end):\n",
    "    return pct_data(conversion(data(tickers, start, end)))  "
   ]
  },
  {
   "cell_type": "code",
   "execution_count": 6,
   "id": "afe31a90",
   "metadata": {},
   "outputs": [
    {
     "name": "stderr",
     "output_type": "stream",
     "text": [
      "[*********************100%%**********************]  5 of 5 completed\n"
     ]
    }
   ],
   "source": [
    "returns_global = pct_wrapper(asset_str, startdate, enddate)\n",
    "rfrr = 0 # risk-free return rate; we'll let this be 0\n",
    "\n",
    "def neg_sharpe(distribution):\n",
    "    portf_return = np.sum(returns_global.mean() * distribution) * trading_days # calculating return\n",
    "    \n",
    "    covar = returns_global.cov() * trading_days\n",
    "    variance = np.dot(distribution.T, np.dot(covar, distribution))\n",
    "    portf_volatility = np.sqrt(variance) # volatility -- represents the stdev\n",
    "    \n",
    "    return - ((portf_return - rfrr) / portf_volatility) # negative sharpe ratio to then use minimization optim."
   ]
  },
  {
   "cell_type": "code",
   "execution_count": 7,
   "id": "7ba3b366",
   "metadata": {},
   "outputs": [],
   "source": [
    "def max_sharpe():\n",
    "    initial_distrib = num_assets * [1/num_assets]\n",
    "    \n",
    "    # Define the constraint function\n",
    "    def constraint_func(distrib):\n",
    "        return np.sum(distrib) - 1\n",
    "    \n",
    "    # Define the bounds\n",
    "    bounds = [(0, 1) for _ in range(num_assets)]\n",
    "    \n",
    "    # Call minimize with both constraint and bounds\n",
    "    allocation = minimize(neg_sharpe, initial_distrib, constraints={'type': 'eq', 'fun': constraint_func}, bounds=bounds, method='SLSQP')\n",
    "    \n",
    "    return allocation.x\n",
    "\n",
    "optimal = max_sharpe()"
   ]
  },
  {
   "cell_type": "code",
   "execution_count": 8,
   "id": "79117f0e",
   "metadata": {},
   "outputs": [
    {
     "name": "stdout",
     "output_type": "stream",
     "text": [
      "The raw optimal investment distribution is as follows:\n"
     ]
    },
    {
     "data": {
      "text/html": [
       "<div>\n",
       "<style scoped>\n",
       "    .dataframe tbody tr th:only-of-type {\n",
       "        vertical-align: middle;\n",
       "    }\n",
       "\n",
       "    .dataframe tbody tr th {\n",
       "        vertical-align: top;\n",
       "    }\n",
       "\n",
       "    .dataframe thead th {\n",
       "        text-align: right;\n",
       "    }\n",
       "</style>\n",
       "<table border=\"1\" class=\"dataframe\">\n",
       "  <thead>\n",
       "    <tr style=\"text-align: right;\">\n",
       "      <th></th>\n",
       "      <th>Allocation</th>\n",
       "    </tr>\n",
       "  </thead>\n",
       "  <tbody>\n",
       "    <tr>\n",
       "      <th>AMZN</th>\n",
       "      <td>8.027504e-01</td>\n",
       "    </tr>\n",
       "    <tr>\n",
       "      <th>F</th>\n",
       "      <td>3.522900e-16</td>\n",
       "    </tr>\n",
       "    <tr>\n",
       "      <th>M</th>\n",
       "      <td>1.424583e-01</td>\n",
       "    </tr>\n",
       "    <tr>\n",
       "      <th>SHOP</th>\n",
       "      <td>5.479123e-02</td>\n",
       "    </tr>\n",
       "    <tr>\n",
       "      <th>TSLA</th>\n",
       "      <td>0.000000e+00</td>\n",
       "    </tr>\n",
       "  </tbody>\n",
       "</table>\n",
       "</div>"
      ],
      "text/plain": [
       "        Allocation\n",
       "AMZN  8.027504e-01\n",
       "F     3.522900e-16\n",
       "M     1.424583e-01\n",
       "SHOP  5.479123e-02\n",
       "TSLA  0.000000e+00"
      ]
     },
     "execution_count": 8,
     "metadata": {},
     "output_type": "execute_result"
    }
   ],
   "source": [
    "print(\"The raw optimal investment distribution is as follows:\")\n",
    "optimaldf = pd.DataFrame({'Allocation': optimal}, index=assets)\n",
    "optimaldf"
   ]
  },
  {
   "cell_type": "code",
   "execution_count": 9,
   "id": "08bb0de5",
   "metadata": {},
   "outputs": [
    {
     "name": "stdout",
     "output_type": "stream",
     "text": [
      "In most scenarios, this will be hard to decipher. Here are the simplified allocations:\n",
      "Note: The total may be 1 less or above 100% due to rounding errors\n"
     ]
    },
    {
     "data": {
      "text/html": [
       "<div>\n",
       "<style scoped>\n",
       "    .dataframe tbody tr th:only-of-type {\n",
       "        vertical-align: middle;\n",
       "    }\n",
       "\n",
       "    .dataframe tbody tr th {\n",
       "        vertical-align: top;\n",
       "    }\n",
       "\n",
       "    .dataframe thead th {\n",
       "        text-align: right;\n",
       "    }\n",
       "</style>\n",
       "<table border=\"1\" class=\"dataframe\">\n",
       "  <thead>\n",
       "    <tr style=\"text-align: right;\">\n",
       "      <th></th>\n",
       "      <th>Simplified Allocation</th>\n",
       "    </tr>\n",
       "  </thead>\n",
       "  <tbody>\n",
       "    <tr>\n",
       "      <th>AMZN</th>\n",
       "      <td>80.0</td>\n",
       "    </tr>\n",
       "    <tr>\n",
       "      <th>F</th>\n",
       "      <td>0.0</td>\n",
       "    </tr>\n",
       "    <tr>\n",
       "      <th>M</th>\n",
       "      <td>14.0</td>\n",
       "    </tr>\n",
       "    <tr>\n",
       "      <th>SHOP</th>\n",
       "      <td>5.0</td>\n",
       "    </tr>\n",
       "    <tr>\n",
       "      <th>TSLA</th>\n",
       "      <td>0.0</td>\n",
       "    </tr>\n",
       "  </tbody>\n",
       "</table>\n",
       "</div>"
      ],
      "text/plain": [
       "      Simplified Allocation\n",
       "AMZN                   80.0\n",
       "F                       0.0\n",
       "M                      14.0\n",
       "SHOP                    5.0\n",
       "TSLA                    0.0"
      ]
     },
     "execution_count": 9,
     "metadata": {},
     "output_type": "execute_result"
    }
   ],
   "source": [
    "print(\"In most scenarios, this will be hard to decipher. Here are the simplified allocations:\")\n",
    "print(\"Note: The total may be 1 less or above 100% due to rounding errors\")\n",
    "acc = 0\n",
    "\n",
    "while acc < len(optimal):\n",
    "    optimal[acc] = np.round(optimal[acc] * 100)\n",
    "    acc += 1\n",
    "\n",
    "smp_optimaldf = pd.DataFrame({\"Simplified Allocation\": optimal}, index=assets)\n",
    "smp_optimaldf\n"
   ]
  }
 ],
 "metadata": {
  "kernelspec": {
   "display_name": "cfm101",
   "language": "python",
   "name": "cfm101"
  },
  "language_info": {
   "codemirror_mode": {
    "name": "ipython",
    "version": 3
   },
   "file_extension": ".py",
   "mimetype": "text/x-python",
   "name": "python",
   "nbconvert_exporter": "python",
   "pygments_lexer": "ipython3",
   "version": "3.11.5"
  }
 },
 "nbformat": 4,
 "nbformat_minor": 5
}
